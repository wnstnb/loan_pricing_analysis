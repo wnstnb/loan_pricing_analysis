{
 "cells": [
  {
   "cell_type": "code",
   "execution_count": 2,
   "metadata": {},
   "outputs": [
    {
     "ename": "ModuleNotFoundError",
     "evalue": "No module named 'dataclasses'",
     "output_type": "error",
     "traceback": [
      "\u001b[1;31m---------------------------------------------------------------------------\u001b[0m",
      "\u001b[1;31mModuleNotFoundError\u001b[0m                       Traceback (most recent call last)",
      "\u001b[1;32m<ipython-input-2-49f96414fa83>\u001b[0m in \u001b[0;36m<module>\u001b[1;34m\u001b[0m\n\u001b[1;32m----> 1\u001b[1;33m \u001b[1;32mfrom\u001b[0m \u001b[0mdataclasses\u001b[0m \u001b[1;32mimport\u001b[0m \u001b[0mdataclass\u001b[0m\u001b[1;33m\u001b[0m\u001b[1;33m\u001b[0m\u001b[0m\n\u001b[0m\u001b[0;32m      2\u001b[0m \u001b[1;32mimport\u001b[0m \u001b[0mnumpy\u001b[0m \u001b[1;32mas\u001b[0m \u001b[0mnp\u001b[0m\u001b[1;33m\u001b[0m\u001b[1;33m\u001b[0m\u001b[0m\n\u001b[0;32m      3\u001b[0m \u001b[1;32mimport\u001b[0m \u001b[0mpandas\u001b[0m \u001b[1;32mas\u001b[0m \u001b[0mpd\u001b[0m\u001b[1;33m\u001b[0m\u001b[1;33m\u001b[0m\u001b[0m\n\u001b[0;32m      4\u001b[0m \u001b[1;32mimport\u001b[0m \u001b[0mnumpy_financial\u001b[0m \u001b[1;32mas\u001b[0m \u001b[0mnpf\u001b[0m\u001b[1;33m\u001b[0m\u001b[1;33m\u001b[0m\u001b[0m\n\u001b[0;32m      5\u001b[0m \u001b[1;33m\u001b[0m\u001b[0m\n",
      "\u001b[1;31mModuleNotFoundError\u001b[0m: No module named 'dataclasses'"
     ]
    }
   ],
   "source": [
    "from dataclasses import dataclass\n",
    "import numpy as np\n",
    "import pandas as pd\n",
    "import numpy_financial as npf\n",
    "\n",
    "@dataclass\n",
    "class ModelInputs:\n",
    "    price_machine: float = 1000000\n",
    "    loan_life: int = 5\n",
    "    initial_default: float = 0.3\n",
    "    default_decay: float = 0.9\n",
    "    final_default: float = 0.4\n",
    "    recovery_rate: float = 0.4\n",
    "    interest: float = 0.2\n",
    "    num_iterations: int = 1000\n",
    "    default_std: float = 0.05  # Standard deviation for default probability\n",
    "    recovery_std: float = 0.02  # Standard deviation for recovery rate\n",
    "        \n",
    "model_data = ModelInputs()\n",
    "\n",
    "# Now use these new attributes in your simulation\n",
    "def simulate_cash_flows_with_randomness(model_inputs):\n",
    "    irrs = []  # List to store IRRs from each iteration\n",
    "    \n",
    "    for _ in range(model_inputs.num_iterations):\n",
    "        # Simulate random default probabilities and recovery rates\n",
    "        default_probs = np.random.normal(\n",
    "            model_inputs.initial_default, \n",
    "            model_inputs.default_std, \n",
    "            model_inputs.loan_life\n",
    "        )\n",
    "        # Ensure the probabilities are within the specified range\n",
    "        default_probs = np.clip(default_probs, a_min=model_inputs.initial_default, a_max=model_inputs.final_default)\n",
    "        \n",
    "        recovery_rates = np.random.normal(\n",
    "            model_inputs.recovery_rate, \n",
    "            model_inputs.recovery_std, \n",
    "            model_inputs.loan_life\n",
    "        )\n",
    "        # Ensure the recovery rates are within the range [0, 1]\n",
    "        recovery_rates = np.clip(recovery_rates, a_min=0, a_max=1)\n",
    "        \n",
    "        cash_flows = [-model_inputs.price_machine]\n",
    "        for year in range(model_inputs.loan_life):\n",
    "            expected_cash_flow = model_inputs.price_machine * model_inputs.interest * (1 - default_probs[year]) + \\\n",
    "                                 model_inputs.price_machine * default_probs[year] * recovery_rates[year]\n",
    "            cash_flows.append(expected_cash_flow)\n",
    "        \n",
    "        irr = npf.irr(cash_flows)  # Calculate the IRR\n",
    "        irrs.append(irr)\n",
    "    \n",
    "    return np.mean(irrs)  # Return the average IRR over all iterations\n",
    "\n",
    "# Running the simulation with randomness\n",
    "interest_rates = [0.05, 0.1, 0.15, 0.2]  # Example interest rates\n",
    "results = []\n",
    "\n",
    "for rate in interest_rates:\n",
    "    # Set the interest rate in the model data\n",
    "    model_data.interest = rate\n",
    "    # Get the average IRR with randomness introduced\n",
    "    average_irr = simulate_cash_flows_with_randomness(model_data)\n",
    "    results.append([rate, model_data.loan_life, model_data.initial_default, average_irr])\n",
    "\n",
    "irr_df = pd.DataFrame(results, columns=['Interest Rate', 'Loan Life', 'Initial Default Probability', 'Average IRR'])\n",
    "irr_df\n"
   ]
  },
  {
   "cell_type": "code",
   "execution_count": null,
   "metadata": {},
   "outputs": [],
   "source": []
  }
 ],
 "metadata": {
  "kernelspec": {
   "display_name": ".venv",
   "language": "python",
   "name": "python3"
  },
  "language_info": {
   "codemirror_mode": {
    "name": "ipython",
    "version": 3
   },
   "file_extension": ".py",
   "mimetype": "text/x-python",
   "name": "python",
   "nbconvert_exporter": "python",
   "pygments_lexer": "ipython3",
   "version": "3.6.8"
  }
 },
 "nbformat": 4,
 "nbformat_minor": 2
}
